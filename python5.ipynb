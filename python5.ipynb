{
  "nbformat": 4,
  "nbformat_minor": 0,
  "metadata": {
    "colab": {
      "provenance": [],
      "authorship_tag": "ABX9TyNDK9pDyiP/CoMaf0W/GhUo",
      "include_colab_link": true
    },
    "kernelspec": {
      "name": "python3",
      "display_name": "Python 3"
    },
    "language_info": {
      "name": "python"
    }
  },
  "cells": [
    {
      "cell_type": "markdown",
      "metadata": {
        "id": "view-in-github",
        "colab_type": "text"
      },
      "source": [
        "<a href=\"https://colab.research.google.com/github/SangeethaPaulraj26/PythonCodes/blob/main/python5.ipynb\" target=\"_parent\"><img src=\"https://colab.research.google.com/assets/colab-badge.svg\" alt=\"Open In Colab\"/></a>"
      ]
    },
    {
      "cell_type": "markdown",
      "source": [
        "**Array Rotation**"
      ],
      "metadata": {
        "id": "YsMlbd4qr_m2"
      }
    },
    {
      "cell_type": "code",
      "execution_count": null,
      "metadata": {
        "id": "tCSWZuNarBX_",
        "colab": {
          "base_uri": "https://localhost:8080/"
        },
        "outputId": "ddcf7058-aaad-4b3c-f0ec-ab37af0ce5ff"
      },
      "outputs": [
        {
          "output_type": "stream",
          "name": "stdout",
          "text": [
            "Original array [1, 2, 3, 4, 5]\n",
            "Rotated Array [4, 5, 1, 2, 3]\n"
          ]
        }
      ],
      "source": [
        "def rotate_arr(arr,d):\n",
        "  n = len(arr)\n",
        "\n",
        "  if d<0 or d>=n:\n",
        "    return \"Invalid rotation value\"\n",
        "\n",
        "  rotated_array=[0]*n\n",
        "\n",
        "  for i in range(n):\n",
        "    rotated_array[i]=arr[(i+d)%n]\n",
        "\n",
        "  return rotated_array\n",
        "\n",
        "arr=[1,2,3,4,5]\n",
        "\n",
        "d=3\n",
        "\n",
        "result=rotate_arr(arr,d)\n",
        "\n",
        "print(f\"Original array\", arr)\n",
        "print(f\"Rotated Array\", result)\n"
      ]
    },
    {
      "cell_type": "markdown",
      "source": [
        "**Split and Add**"
      ],
      "metadata": {
        "id": "b14aqY_5sH0N"
      }
    },
    {
      "cell_type": "code",
      "source": [
        "def split_add(arr,k):\n",
        "  if k<0 or k>=len(arr):\n",
        "    return arr\n",
        "\n",
        "  first_part=arr[:k]\n",
        "  second_part=arr[k:]\n",
        "\n",
        "  result=second_part+first_part\n",
        "\n",
        "  return result\n",
        "\n",
        "arr=[7,8,9,6,5]\n",
        "\n",
        "k = 3\n",
        "\n",
        "result=split_add(arr,k)\n",
        "\n",
        "print(f\"Original array\", arr)\n",
        "print(f\"Modified Array\", result)"
      ],
      "metadata": {
        "colab": {
          "base_uri": "https://localhost:8080/"
        },
        "id": "-hoTkdAArivn",
        "outputId": "9748f691-87ff-4887-b15d-1c217c555f55"
      },
      "execution_count": null,
      "outputs": [
        {
          "output_type": "stream",
          "name": "stdout",
          "text": [
            "Original array [7, 8, 9, 6, 5]\n",
            "Modified Array [6, 5, 7, 8, 9]\n"
          ]
        }
      ]
    },
    {
      "cell_type": "markdown",
      "source": [
        "**Sort in alphabetical order**"
      ],
      "metadata": {
        "id": "yn0mlxRmLyOF"
      }
    },
    {
      "cell_type": "code",
      "source": [
        "str=input(\"enter the string:\")\n",
        "\n",
        "words=[word.capitalize() for word in str.split()]\n",
        "\n",
        "words.sort()\n",
        "\n",
        "print(f\"The Sorted words are:\")\n",
        "for word in words:\n",
        "  print(word)"
      ],
      "metadata": {
        "id": "UvficJq5tRQA",
        "colab": {
          "base_uri": "https://localhost:8080/"
        },
        "outputId": "3c10fcba-2fd2-4be1-92b3-23d5545e267f"
      },
      "execution_count": 1,
      "outputs": [
        {
          "output_type": "stream",
          "name": "stdout",
          "text": [
            "enter the string:Aaryan Niveda Ranjit Sangeetha Sumithra Paul Tamil\n",
            "The Sorted words are:\n",
            "Aaryan\n",
            "Niveda\n",
            "Paul\n",
            "Ranjit\n",
            "Sangeetha\n",
            "Sumithra\n",
            "Tamil\n"
          ]
        }
      ]
    },
    {
      "cell_type": "markdown",
      "source": [
        "**Removing Punctuations**"
      ],
      "metadata": {
        "id": "a6cuzOvJM4Uv"
      }
    },
    {
      "cell_type": "code",
      "source": [
        "punctuations ='''<>,.?/;:'\"[]{}/!@#$%^&*()'''\n",
        "\n",
        "str=input(\"Enter the string:\")\n",
        "\n",
        "New_str=\"\"\n",
        "\n",
        "for char in str:\n",
        "  if char not in punctuations:\n",
        "    New_str=New_str+char\n",
        "print(New_str)"
      ],
      "metadata": {
        "colab": {
          "base_uri": "https://localhost:8080/"
        },
        "id": "vKV0VMRNMi1Q",
        "outputId": "f7b7cb66-880d-4f88-9fd2-044ef12a1785"
      },
      "execution_count": 9,
      "outputs": [
        {
          "output_type": "stream",
          "name": "stdout",
          "text": [
            "Enter the string:Hi!!!, Aaryan, How are you?\n",
            "Hi Aaryan How are you\n"
          ]
        }
      ]
    },
    {
      "cell_type": "markdown",
      "source": [
        "**Sum of elements in List**"
      ],
      "metadata": {
        "id": "Xh7tSv0NO7mY"
      }
    },
    {
      "cell_type": "code",
      "source": [
        "numbers=[11,12,13,14,15,16,17,18,19,20]\n",
        "\n",
        "Sum=0\n",
        "for i in numbers:\n",
        "  Sum += i\n",
        "print(f\"Sum of numbers in the list are:{Sum}\")"
      ],
      "metadata": {
        "colab": {
          "base_uri": "https://localhost:8080/"
        },
        "id": "nvgXzSfrNuaD",
        "outputId": "c2eceecb-a025-43e6-eb79-99a226966807"
      },
      "execution_count": 10,
      "outputs": [
        {
          "output_type": "stream",
          "name": "stdout",
          "text": [
            "Sum of numbers in the list are:155\n"
          ]
        }
      ]
    },
    {
      "cell_type": "markdown",
      "source": [
        "**Multiply all elements in List**"
      ],
      "metadata": {
        "id": "WiQHK3l_PzOH"
      }
    },
    {
      "cell_type": "code",
      "source": [
        "numbers=[11,12,13,14,15,16,17,18,19,20]\n",
        "\n",
        "prod=1\n",
        "for i in numbers:\n",
        "  prod *= i\n",
        "print(f\"products of numbers in the list are:{prod}\")"
      ],
      "metadata": {
        "colab": {
          "base_uri": "https://localhost:8080/"
        },
        "id": "ciPZzVO8PwjJ",
        "outputId": "47b3b14a-fb82-4fdb-eba4-e42bc86cf293"
      },
      "execution_count": 12,
      "outputs": [
        {
          "output_type": "stream",
          "name": "stdout",
          "text": [
            "products of numbers in the list are:670442572800\n"
          ]
        }
      ]
    },
    {
      "cell_type": "markdown",
      "source": [
        "**Find Smallest number**"
      ],
      "metadata": {
        "id": "Y7nugvkYQSaa"
      }
    },
    {
      "cell_type": "code",
      "source": [
        "numbers=[10, 6, -40, -9, 80]\n",
        "\n",
        "min=numbers[0]\n",
        "\n",
        "for i in numbers:\n",
        "  if i < min:\n",
        "    min = i\n",
        "print(f\"Smallest number in the list is :\",{min})"
      ],
      "metadata": {
        "colab": {
          "base_uri": "https://localhost:8080/"
        },
        "id": "DS0AaG5AQF-V",
        "outputId": "b8854a1e-1218-4d12-9099-65f731d52da6"
      },
      "execution_count": 16,
      "outputs": [
        {
          "output_type": "stream",
          "name": "stdout",
          "text": [
            "Smallest number in the list is : {-40}\n"
          ]
        }
      ]
    },
    {
      "cell_type": "markdown",
      "source": [
        "**Find Largest number**"
      ],
      "metadata": {
        "id": "wtri-9n-RKe_"
      }
    },
    {
      "cell_type": "code",
      "source": [
        "numbers=[10, 6, -40, -9, 80]\n",
        "\n",
        "max=numbers[0]\n",
        "\n",
        "for i in numbers:\n",
        "  if i > max:\n",
        "    max = i\n",
        "print(f\"Largest number in the list is :\",{max})"
      ],
      "metadata": {
        "colab": {
          "base_uri": "https://localhost:8080/"
        },
        "id": "yKKb-qnDQ1K9",
        "outputId": "6311f1c6-156a-4715-d45e-e890d0b1ce22"
      },
      "execution_count": 17,
      "outputs": [
        {
          "output_type": "stream",
          "name": "stdout",
          "text": [
            "Largest number in the list is : {80}\n"
          ]
        }
      ]
    },
    {
      "cell_type": "markdown",
      "source": [
        "**Find the second largest number in the list**"
      ],
      "metadata": {
        "id": "Nk003dh0RrEM"
      }
    },
    {
      "cell_type": "code",
      "source": [
        "numbers=[10, 6, -40, -9, 80]\n",
        "\n",
        "numbers.sort(reverse=True)\n",
        "\n",
        "if len(numbers) >=2:\n",
        "  second_largest=numbers[1]\n",
        "  print(\"Secong Largest number in the list is:\", second_largest)\n",
        "else:\n",
        "  print(\"Theres is no Second Largest number on the list\")"
      ],
      "metadata": {
        "colab": {
          "base_uri": "https://localhost:8080/"
        },
        "id": "GvCeViWiRXef",
        "outputId": "4c052bce-23ef-41c6-d1cf-938930989498"
      },
      "execution_count": 20,
      "outputs": [
        {
          "output_type": "stream",
          "name": "stdout",
          "text": [
            "Secong Largest number in the list is: 10\n"
          ]
        }
      ]
    },
    {
      "cell_type": "code",
      "source": [],
      "metadata": {
        "id": "lf09_yvESSpY"
      },
      "execution_count": null,
      "outputs": []
    }
  ]
}