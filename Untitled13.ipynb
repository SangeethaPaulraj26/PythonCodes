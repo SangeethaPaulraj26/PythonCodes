{
  "nbformat": 4,
  "nbformat_minor": 0,
  "metadata": {
    "colab": {
      "provenance": []
    },
    "kernelspec": {
      "name": "python3",
      "display_name": "Python 3"
    },
    "language_info": {
      "name": "python"
    }
  },
  "cells": [
    {
      "cell_type": "code",
      "source": [],
      "metadata": {
        "id": "wKOty_TjqO2M"
      },
      "execution_count": null,
      "outputs": []
    },
    {
      "cell_type": "markdown",
      "source": [
        "**Hello message**"
      ],
      "metadata": {
        "id": "jXY0xq72qRWT"
      }
    },
    {
      "cell_type": "code",
      "execution_count": null,
      "metadata": {
        "colab": {
          "base_uri": "https://localhost:8080/"
        },
        "id": "carywDunNNcv",
        "outputId": "a71d6dff-6e53-4afc-e61e-e1ead6a6a268"
      },
      "outputs": [
        {
          "output_type": "stream",
          "name": "stdout",
          "text": [
            "Hello Aaryan\n"
          ]
        }
      ],
      "source": [
        "print(\"Hello Aaryan\")"
      ]
    },
    {
      "cell_type": "markdown",
      "source": [
        "**Addition**"
      ],
      "metadata": {
        "id": "xz1QHYRpqZ3k"
      }
    },
    {
      "cell_type": "code",
      "source": [
        "num1 = float(input(\" Enter the first number:\"))\n",
        "num2 = float(input(\" Enter the secong number:\"))\n",
        "X= num1+ num2\n",
        "print(f\"sum: {num1} +{num2} = {X}\")"
      ],
      "metadata": {
        "colab": {
          "base_uri": "https://localhost:8080/"
        },
        "id": "cGY0u9miNWBK",
        "outputId": "c3c2ca6f-559f-4953-d103-afc68d2e15c5"
      },
      "execution_count": null,
      "outputs": [
        {
          "output_type": "stream",
          "name": "stdout",
          "text": [
            " Enter the first number:10\n",
            " Enter the secong number:20\n",
            "sum: 10.0 +20.0 = 30.0\n"
          ]
        }
      ]
    },
    {
      "cell_type": "markdown",
      "source": [
        "**Division**"
      ],
      "metadata": {
        "id": "P08DZ9HQql9Q"
      }
    },
    {
      "cell_type": "code",
      "source": [
        "num3 = float(input(\" Enter the dividend number:\"))\n",
        "num4 = float(input(\" Enter the divisor number:\"))\n",
        "if num4==0:\n",
        "  print(f\"Error: Division by zero is not allowed\")\n",
        "else:\n",
        "  Y = num3/num4\n",
        "print(f\"ans : {num3}/{num4}={Y}\")"
      ],
      "metadata": {
        "colab": {
          "base_uri": "https://localhost:8080/"
        },
        "id": "AfzZzVfHONNd",
        "outputId": "143bc770-0c76-47c5-a7d7-722590edca37"
      },
      "execution_count": null,
      "outputs": [
        {
          "output_type": "stream",
          "name": "stdout",
          "text": [
            " Enter the dividend number:30\n",
            " Enter the divisor number:3\n",
            "ans : 30.0/3.0=10.0\n"
          ]
        }
      ]
    },
    {
      "cell_type": "markdown",
      "source": [
        "**Area of the triangle**"
      ],
      "metadata": {
        "id": "c92owu7_qvAX"
      }
    },
    {
      "cell_type": "code",
      "source": [
        "base = float(input(\" Enter the base of the triangle:\"))\n",
        "height = float(input(\" Enter the base of the triangle:\"))\n",
        "area = 0.5 * base * height\n",
        "print(f\"Area of the traingle: {area}\")\n"
      ],
      "metadata": {
        "colab": {
          "base_uri": "https://localhost:8080/"
        },
        "id": "0IAp3S-nPB33",
        "outputId": "cea23875-7707-4b02-ca22-b31bafdca242"
      },
      "execution_count": null,
      "outputs": [
        {
          "output_type": "stream",
          "name": "stdout",
          "text": [
            " Enter the base of the triangle:4\n",
            " Enter the base of the triangle:6\n",
            "Area of the traingle: 12.0\n"
          ]
        }
      ]
    },
    {
      "cell_type": "markdown",
      "source": [
        "**swapping variables**"
      ],
      "metadata": {
        "id": "te_THUCmq2HI"
      }
    },
    {
      "cell_type": "code",
      "source": [
        "a = input(\"Enter the value of the first variable(a):\")\n",
        "b = input(\"Enter the value of the first variable(b):\")\n",
        "print(f\"Original Values: a ={a}, b  = {b}\")\n",
        "temp=a\n",
        "a=b\n",
        "b=temp\n",
        "print(f\"Swapped values: a={a}, b={b}\")"
      ],
      "metadata": {
        "colab": {
          "base_uri": "https://localhost:8080/"
        },
        "id": "pvqEDWfOV7dH",
        "outputId": "3a552c80-ea91-4aff-f787-21a38ac723dd"
      },
      "execution_count": null,
      "outputs": [
        {
          "output_type": "stream",
          "name": "stdout",
          "text": [
            "Enter the value of the first variable(a):20\n",
            "Enter the value of the first variable(b):50\n",
            "Original Values: a =20, b  = 50\n",
            "Swapped values: a=50, b=20\n"
          ]
        }
      ]
    },
    {
      "cell_type": "markdown",
      "source": [
        "**Generate Random numbers**"
      ],
      "metadata": {
        "id": "9AANbeF9q_vQ"
      }
    },
    {
      "cell_type": "code",
      "source": [
        "import random\n",
        "print(f\"Random number: {random.randint(1,100)}\")"
      ],
      "metadata": {
        "colab": {
          "base_uri": "https://localhost:8080/"
        },
        "id": "0bRjXgLyW5vP",
        "outputId": "968c8d6f-9832-4662-d887-134f1e44901c"
      },
      "execution_count": null,
      "outputs": [
        {
          "output_type": "stream",
          "name": "stdout",
          "text": [
            "Random number: 94\n"
          ]
        }
      ]
    },
    {
      "cell_type": "markdown",
      "source": [
        "**Conversion km to miles**"
      ],
      "metadata": {
        "id": "dR9IGU02rHjo"
      }
    },
    {
      "cell_type": "code",
      "source": [
        "km = input(\"Enter the distance in km:\")\n",
        "conversion=0.621371\n",
        "miles = float(km)*conversion\n",
        "print(f\"{km} kilometer is {miles}miles\")"
      ],
      "metadata": {
        "colab": {
          "base_uri": "https://localhost:8080/"
        },
        "id": "lxRhXnLriEKj",
        "outputId": "ec148424-77c2-48a7-f8e8-a414703e0293"
      },
      "execution_count": null,
      "outputs": [
        {
          "output_type": "stream",
          "name": "stdout",
          "text": [
            "Enter the distance in km:30\n",
            "30 kilometer is 18.64113miles\n"
          ]
        }
      ]
    },
    {
      "cell_type": "markdown",
      "source": [
        "**another conversion**"
      ],
      "metadata": {
        "id": "mEiYMhborOei"
      }
    },
    {
      "cell_type": "code",
      "source": [
        "celsius = float(input(\" Enter the temperature in Celsius\"))\n",
        "f=(celsius *9/5)+32\n",
        "print(f\"temperature in fahrenheit is: {f}\")"
      ],
      "metadata": {
        "colab": {
          "base_uri": "https://localhost:8080/"
        },
        "id": "SJj7qe2Lp6RF",
        "outputId": "40bd6742-5f88-4844-bd35-cc5d0a758c4e"
      },
      "execution_count": null,
      "outputs": [
        {
          "output_type": "stream",
          "name": "stdout",
          "text": [
            " Enter the temperature in Celsius30\n",
            "temperature in fahrenheit is: 86.0\n"
          ]
        }
      ]
    },
    {
      "cell_type": "markdown",
      "source": [
        "**Display Calender**"
      ],
      "metadata": {
        "id": "vAac_at_rWwT"
      }
    },
    {
      "cell_type": "code",
      "source": [
        "import calendar\n",
        "\n",
        "year = int(input(\"Enter the year:\"))\n",
        "month = int(input(\"Enter the month:\"))\n",
        "cal = calendar.month(year, month)\n",
        "print(cal)\n",
        "\n"
      ],
      "metadata": {
        "id": "HihhExhXrpHT",
        "colab": {
          "base_uri": "https://localhost:8080/"
        },
        "outputId": "7bc8ae64-80c3-40f5-c9c0-ab4055da3326"
      },
      "execution_count": 6,
      "outputs": [
        {
          "output_type": "stream",
          "name": "stdout",
          "text": [
            "Enter the year:2025\n",
            "Enter the month:2\n",
            "   February 2025\n",
            "Mo Tu We Th Fr Sa Su\n",
            "                1  2\n",
            " 3  4  5  6  7  8  9\n",
            "10 11 12 13 14 15 16\n",
            "17 18 19 20 21 22 23\n",
            "24 25 26 27 28\n",
            "\n"
          ]
        }
      ]
    },
    {
      "cell_type": "markdown",
      "source": [
        "**solve quadratic equation**"
      ],
      "metadata": {
        "id": "z3hS49qyrfgN"
      }
    },
    {
      "cell_type": "code",
      "source": [
        "import math\n",
        "a = float(input(\"Enter the coefficient a:\"))\n",
        "b = float(input(\"Enter the coefficient b:\"))\n",
        "c = float(input(\"Enter the coefficient c:\"))\n",
        "\n",
        "x= b**2 - 4*a*c\n",
        "if x>0:\n",
        "    root1 = -b + math.sqrt(x)/(2*a)\n",
        "    root2 = -b - math.sqrt(x)/(2*a)\n",
        "    print(f\"root1={root1}, root2={root2}\")\n",
        "elif x == 0:\n",
        "    root = -b/(2*a)\n",
        "    print(f\"root={root}\")\n",
        "else:\n",
        "    real = -b/(2*a)\n",
        "    imaginary = math.sqrt(abs(x)/(2*a))\n",
        "    print(f\"root1={real} + {imaginary}i\")\n",
        "    print(f\"root2={real} + {imaginary}i\")\n",
        "\n",
        "\n"
      ],
      "metadata": {
        "colab": {
          "base_uri": "https://localhost:8080/"
        },
        "id": "jfJmhJqFl4zY",
        "outputId": "12c616d5-4ad3-4cf0-a7da-95b2732219b8"
      },
      "execution_count": 15,
      "outputs": [
        {
          "output_type": "stream",
          "name": "stdout",
          "text": [
            "Enter the coefficient a:2\n",
            "Enter the coefficient b:4\n",
            "Enter the coefficient c:6\n",
            "root1=-1.0 + 2.8284271247461903i\n",
            "root2=-1.0 + 2.8284271247461903i\n"
          ]
        }
      ]
    },
    {
      "cell_type": "markdown",
      "source": [
        "**swapping without temp**"
      ],
      "metadata": {
        "id": "1r2aXeMgrn_K"
      }
    },
    {
      "cell_type": "code",
      "source": [
        "a=10\n",
        "b=5\n",
        "a,b = b,a\n",
        "print(f\"After swapping\")\n",
        "print(f\"a ={a}, b ={b}\")"
      ],
      "metadata": {
        "colab": {
          "base_uri": "https://localhost:8080/"
        },
        "id": "bIUZJ3INowI7",
        "outputId": "1b592c26-4f44-477f-f9ae-c53af886fa7e"
      },
      "execution_count": 18,
      "outputs": [
        {
          "output_type": "stream",
          "name": "stdout",
          "text": [
            "After swapping\n",
            "a =5, b =10\n"
          ]
        }
      ]
    },
    {
      "cell_type": "code",
      "source": [],
      "metadata": {
        "id": "QtUXa7edp1DV"
      },
      "execution_count": null,
      "outputs": []
    }
  ]
}