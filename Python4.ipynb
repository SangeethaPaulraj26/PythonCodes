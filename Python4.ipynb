{
  "nbformat": 4,
  "nbformat_minor": 0,
  "metadata": {
    "colab": {
      "provenance": [],
      "authorship_tag": "ABX9TyN5sRKFl5O6l8jLhp3PHMcm",
      "include_colab_link": true
    },
    "kernelspec": {
      "name": "python3",
      "display_name": "Python 3"
    },
    "language_info": {
      "name": "python"
    }
  },
  "cells": [
    {
      "cell_type": "markdown",
      "metadata": {
        "id": "view-in-github",
        "colab_type": "text"
      },
      "source": [
        "<a href=\"https://colab.research.google.com/github/SangeethaPaulraj26/PythonCodes/blob/main/Python4.ipynb\" target=\"_parent\"><img src=\"https://colab.research.google.com/assets/colab-badge.svg\" alt=\"Open In Colab\"/></a>"
      ]
    },
    {
      "cell_type": "markdown",
      "source": [
        "**Cube sum of first n natural numbers**"
      ],
      "metadata": {
        "id": "KcqCm3VnZnM5"
      }
    },
    {
      "cell_type": "code",
      "execution_count": 12,
      "metadata": {
        "colab": {
          "base_uri": "https://localhost:8080/"
        },
        "id": "ckE9yp7LZhjy",
        "outputId": "6ff746bd-97a9-44f5-b402-504c93586edd"
      },
      "outputs": [
        {
          "output_type": "stream",
          "name": "stdout",
          "text": [
            "enter the number:7\n",
            "784\n"
          ]
        }
      ],
      "source": [
        "def cube_sum(n):\n",
        "  if n<=0:\n",
        "    return 0\n",
        "  else:\n",
        "    total = 0\n",
        "    for i in range(1,n+1):\n",
        "      total +=(i**3)\n",
        "    return total\n",
        "\n",
        "\n",
        "n = int(input(\"enter the number:\"))\n",
        "\n",
        "if n <=0:\n",
        "  print(f\"Enter positive number\")\n",
        "else:\n",
        "  result = cube_sum(n)\n",
        "  print(result)"
      ]
    },
    {
      "cell_type": "markdown",
      "source": [
        "**Sum of an Array**"
      ],
      "metadata": {
        "id": "I2WzuMKMczJI"
      }
    },
    {
      "cell_type": "code",
      "source": [
        "arr = [1,2,3,4,5]\n",
        "\n",
        "x=sum(arr)\n",
        "print(x)"
      ],
      "metadata": {
        "colab": {
          "base_uri": "https://localhost:8080/"
        },
        "id": "14YM-B-ta4M4",
        "outputId": "d600fd78-5a78-4373-98ff-5ce2ecd8b26d"
      },
      "execution_count": 13,
      "outputs": [
        {
          "output_type": "stream",
          "name": "stdout",
          "text": [
            "15\n"
          ]
        }
      ]
    },
    {
      "cell_type": "markdown",
      "source": [
        "**Largest number in an Array**"
      ],
      "metadata": {
        "id": "G-GCz5oydNzO"
      }
    },
    {
      "cell_type": "code",
      "source": [
        "def find_lar_ele(arr):\n",
        "  if not arr:\n",
        "    print(f\"Array is empty\")\n",
        "\n",
        "  lar_ele=arr[0]\n",
        "  for ele in arr:\n",
        "    if ele > lar_ele:\n",
        "      lar_ele = ele\n",
        "  return lar_ele\n",
        "\n",
        "A=[10,30,50,90, 80]\n",
        "\n",
        "result=find_lar_ele(A)\n",
        "print(f\"Largest element is {result}\")"
      ],
      "metadata": {
        "colab": {
          "base_uri": "https://localhost:8080/"
        },
        "id": "NvhtcENLdJXe",
        "outputId": "54de2de0-b1fe-4e8f-c8cc-a0eab89e68e5"
      },
      "execution_count": 15,
      "outputs": [
        {
          "output_type": "stream",
          "name": "stdout",
          "text": [
            "Largest element is 90\n"
          ]
        }
      ]
    },
    {
      "cell_type": "code",
      "source": [],
      "metadata": {
        "id": "S2ca6MZiekFT"
      },
      "execution_count": null,
      "outputs": []
    }
  ]
}