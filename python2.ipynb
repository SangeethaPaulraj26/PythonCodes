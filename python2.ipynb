{
  "nbformat": 4,
  "nbformat_minor": 0,
  "metadata": {
    "colab": {
      "provenance": []
    },
    "kernelspec": {
      "name": "python3",
      "display_name": "Python 3"
    },
    "language_info": {
      "name": "python"
    }
  },
  "cells": [
    {
      "cell_type": "markdown",
      "source": [
        "**Checking if the number is positive/Negative/Zero**"
      ],
      "metadata": {
        "id": "Y7i05ZYQLFXd"
      }
    },
    {
      "cell_type": "code",
      "execution_count": null,
      "metadata": {
        "colab": {
          "base_uri": "https://localhost:8080/"
        },
        "id": "9qAs5lwACvPs",
        "outputId": "9ea83603-cb9b-4055-e1f6-d629897e0df6"
      },
      "outputs": [
        {
          "output_type": "stream",
          "name": "stdout",
          "text": [
            "Enter the number:-9\n",
            "Number is negative\n"
          ]
        }
      ],
      "source": [
        "num = float(input(\"Enter the number:\"))\n",
        "if num > 0:\n",
        "  print(f\"Number is positive\")\n",
        "elif num==0:\n",
        "  print(f\"Number is Zero\")\n",
        "else:\n",
        "  print(f\"Number is negative\")"
      ]
    },
    {
      "cell_type": "markdown",
      "source": [
        "**Checking if the number is odd or even**"
      ],
      "metadata": {
        "id": "DH8weT64LPkk"
      }
    },
    {
      "cell_type": "code",
      "source": [
        "num = int(input(\"Enter the number:\"))\n",
        "if num%2==0:\n",
        "  print(f\"Even number\")\n",
        "else:\n",
        "  print(f\"Odd number\")"
      ],
      "metadata": {
        "colab": {
          "base_uri": "https://localhost:8080/"
        },
        "id": "Dh0G59rZK9Lt",
        "outputId": "f0ef6cc5-d326-44aa-cea2-d3897eaadfa3"
      },
      "execution_count": null,
      "outputs": [
        {
          "output_type": "stream",
          "name": "stdout",
          "text": [
            "Enter the number:33\n",
            "Odd number\n"
          ]
        }
      ]
    },
    {
      "cell_type": "markdown",
      "source": [
        "**Check Leap year**"
      ],
      "metadata": {
        "id": "CaxB4xkGLw1R"
      }
    },
    {
      "cell_type": "code",
      "source": [
        "year = int(input(\"Enter the year:\"))\n",
        "if (year%400==0) and (year%100==0):\n",
        "  print(f\"{0} is a leap year\".format(year))\n",
        "elif (year%4==0) and (year%100!=0):\n",
        "   print(f\"{0} is a leap year\".format(year))\n",
        "else:\n",
        "     print(f\"{0} is not a leap year\".format(year))"
      ],
      "metadata": {
        "colab": {
          "base_uri": "https://localhost:8080/"
        },
        "id": "2jVVDf1jLsP0",
        "outputId": "cc582e11-bf35-4786-8312-22af65951af8"
      },
      "execution_count": null,
      "outputs": [
        {
          "output_type": "stream",
          "name": "stdout",
          "text": [
            "Enter the year:2025\n",
            "0 is not a leap year\n"
          ]
        }
      ]
    },
    {
      "cell_type": "markdown",
      "source": [
        "**Prime numbers**"
      ],
      "metadata": {
        "id": "NxSMlLSyTo5M"
      }
    },
    {
      "cell_type": "code",
      "source": [
        "flag = False\n",
        "\n",
        "num = int(input(\"Enter the number:\"))\n",
        "if num==1:\n",
        "  print(f\"{num} is not a prime number\")\n",
        "elif num>1:\n",
        "  for i in range(2, num):\n",
        "    if (num%i)==0:\n",
        "      flag=True\n",
        "      break\n",
        "if flag:\n",
        "  print(f\"{num} is not prime number\")\n",
        "else:\n",
        "  print(f\"{num} is prime number\")"
      ],
      "metadata": {
        "colab": {
          "base_uri": "https://localhost:8080/"
        },
        "id": "PmveZViwMv73",
        "outputId": "0098c927-d359-4410-8c41-05ecbfed2a7d"
      },
      "execution_count": null,
      "outputs": [
        {
          "output_type": "stream",
          "name": "stdout",
          "text": [
            "Enter the number:23\n",
            "23 is prime number\n"
          ]
        }
      ]
    },
    {
      "cell_type": "markdown",
      "source": [
        "**Listing Prime numbers**"
      ],
      "metadata": {
        "id": "dYUeKTY8K0_O"
      }
    },
    {
      "cell_type": "code",
      "source": [
        "lower = 1\n",
        "upper = 10\n",
        "print(f\"Prime numbers\", lower, \"and\", upper, \"are\")\n",
        "\n",
        "for num in range(lower, upper+1):\n",
        "  if num>1:\n",
        "    for i in range(2,num):\n",
        "      if (num%i)==0:\n",
        "        break\n",
        "    else:\n",
        "        print(num)"
      ],
      "metadata": {
        "colab": {
          "base_uri": "https://localhost:8080/"
        },
        "id": "NNttxRtnUZJz",
        "outputId": "db2dc737-4ba9-4fbd-bb14-6f6f821936ba"
      },
      "execution_count": null,
      "outputs": [
        {
          "output_type": "stream",
          "name": "stdout",
          "text": [
            "Prime numbers 1 and 10 are\n",
            "2\n",
            "3\n",
            "5\n",
            "7\n"
          ]
        }
      ]
    },
    {
      "cell_type": "markdown",
      "source": [
        "**Factorial of a numner**"
      ],
      "metadata": {
        "id": "iWL7KhdfK9wT"
      }
    },
    {
      "cell_type": "code",
      "source": [
        "num = int(input(\"Enter the number:\"))\n",
        "factorial = 1\n",
        "if num < 0:\n",
        "  print(f\"Factorial does not exists\")\n",
        "elif num==0:\n",
        "  print(f\"Factorial of {num} is 1\")\n",
        "else:\n",
        "  for i in range(1,num+1):\n",
        "    factorial=factorial*i\n",
        "  print(f\"Factorial of {num} is {factorial}\")\n",
        "\n"
      ],
      "metadata": {
        "colab": {
          "base_uri": "https://localhost:8080/"
        },
        "id": "Iz2lSNl3KclK",
        "outputId": "162531b7-96e4-46a3-a6ac-73977c22fc13"
      },
      "execution_count": null,
      "outputs": [
        {
          "output_type": "stream",
          "name": "stdout",
          "text": [
            "Enter the number:5\n",
            "Factorial of 5 is 120\n"
          ]
        }
      ]
    },
    {
      "cell_type": "markdown",
      "source": [
        "**Multiplication tables**"
      ],
      "metadata": {
        "id": "yYNZD_6CjR2q"
      }
    },
    {
      "cell_type": "code",
      "source": [
        "num = int(input(\"Enter the number:\"))\n",
        "\n",
        "for i in range(1,11):\n",
        "  print(f\"{num} X {i} ={num*i}\")"
      ],
      "metadata": {
        "colab": {
          "base_uri": "https://localhost:8080/"
        },
        "id": "eCtcRFYMQFib",
        "outputId": "966243ee-342c-4aa2-aab8-c49821b42898"
      },
      "execution_count": 19,
      "outputs": [
        {
          "output_type": "stream",
          "name": "stdout",
          "text": [
            "Enter the number:8\n",
            "8 X 1 =8\n",
            "8 X 2 =16\n",
            "8 X 3 =24\n",
            "8 X 4 =32\n",
            "8 X 5 =40\n",
            "8 X 6 =48\n",
            "8 X 7 =56\n",
            "8 X 8 =64\n",
            "8 X 9 =72\n",
            "8 X 10 =80\n"
          ]
        }
      ]
    },
    {
      "cell_type": "markdown",
      "source": [
        "**Fibonacci **"
      ],
      "metadata": {
        "id": "4rMko_5or2xd"
      }
    },
    {
      "cell_type": "code",
      "source": [
        "nterms = int(input(\"Enter the no. of terms:\"))\n",
        "n1,n2=0,1\n",
        "count=0\n",
        "if nterms<=0:\n",
        "  print(f\" Enter a positive number\")\n",
        "elif nterms == 1:\n",
        "  print(f\"Fibonacci sequence\",nterms,\":\")\n",
        "  print(n1)\n",
        "else:\n",
        "  print(f\"fibonacci number\")\n",
        "  while count < nterms:\n",
        "    print(n1)\n",
        "    nth=n1+n2\n",
        "    n1=n2\n",
        "    n2=nth\n",
        "    count+=1\n",
        "\n"
      ],
      "metadata": {
        "colab": {
          "base_uri": "https://localhost:8080/"
        },
        "id": "EVdpzj6ZjwAG",
        "outputId": "42544db7-a887-408d-955e-7e074024a59e"
      },
      "execution_count": null,
      "outputs": [
        {
          "output_type": "stream",
          "name": "stdout",
          "text": [
            "Enter the no. of terms:4\n",
            "fibonacci number\n",
            "0\n",
            "1\n",
            "1\n",
            "2\n"
          ]
        }
      ]
    },
    {
      "cell_type": "markdown",
      "source": [
        "**Check Armstrong number**"
      ],
      "metadata": {
        "id": "iQTawiOwEmRm"
      }
    },
    {
      "cell_type": "code",
      "source": [
        "num = int(input(\"Enter a number: \"))\n",
        "num_str = str(num)\n",
        "num_digits = len(num_str)\n",
        "\n",
        "sum_of_power = 0\n",
        "temp_num = num\n",
        "\n",
        "while temp_num > 0:\n",
        "    digit = temp_num % 10\n",
        "    sum_of_power += digit ** num_digits\n",
        "    temp_num //= 10  # Reduce temp_num\n",
        "\n",
        "if sum_of_power == num:\n",
        "    print(f\"{num} is an Armstrong number\")\n",
        "else:\n",
        "    print(f\"{num} is not an Armstrong number\")\n"
      ],
      "metadata": {
        "id": "acCpjSKdtE_a",
        "colab": {
          "base_uri": "https://localhost:8080/"
        },
        "outputId": "1720ee0e-9cff-4280-ef04-9cc7106516e9"
      },
      "execution_count": 6,
      "outputs": [
        {
          "output_type": "stream",
          "name": "stdout",
          "text": [
            "Enter a number: 12\n",
            "12 is not an Armstrong number\n"
          ]
        }
      ]
    },
    {
      "cell_type": "markdown",
      "source": [
        "**Armstrong number in an interval**"
      ],
      "metadata": {
        "id": "HhfvJE5FJwsC"
      }
    },
    {
      "cell_type": "code",
      "source": [
        "lower = int(input(\"Enter a lower interval number: \"))\n",
        "upper = int(input(\"Enter a upper interval number: \"))\n",
        "\n",
        "for num in range(lower, upper+1):\n",
        "    order = len(str(num))\n",
        "    sum_of_power = 0\n",
        "    temp_num = num\n",
        "\n",
        "    while temp_num > 0:\n",
        "      digit = temp_num % 10\n",
        "      sum_of_power += digit ** order\n",
        "      temp_num //= 10  # Reduce temp_num\n",
        "\n",
        "    if num == sum_of_power:\n",
        "      print(num)"
      ],
      "metadata": {
        "id": "9tSPicmOuFGA",
        "colab": {
          "base_uri": "https://localhost:8080/"
        },
        "outputId": "d17158a5-658d-42eb-8476-5f38f8183680"
      },
      "execution_count": 18,
      "outputs": [
        {
          "output_type": "stream",
          "name": "stdout",
          "text": [
            "Enter a lower interval number: 10\n",
            "Enter a upper interval number: 1000\n",
            "153\n",
            "370\n",
            "371\n",
            "407\n"
          ]
        }
      ]
    },
    {
      "cell_type": "code",
      "source": [],
      "metadata": {
        "id": "96uA0yVZIEVC"
      },
      "execution_count": null,
      "outputs": []
    }
  ]
}