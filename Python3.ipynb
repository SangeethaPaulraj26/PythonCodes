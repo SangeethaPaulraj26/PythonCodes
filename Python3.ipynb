{
  "nbformat": 4,
  "nbformat_minor": 0,
  "metadata": {
    "colab": {
      "provenance": []
    },
    "kernelspec": {
      "name": "python3",
      "display_name": "Python 3"
    },
    "language_info": {
      "name": "python"
    }
  },
  "cells": [
    {
      "cell_type": "markdown",
      "source": [
        "**Sum of natural numbers**"
      ],
      "metadata": {
        "id": "j8jkS2ZR2mV2"
      }
    },
    {
      "cell_type": "code",
      "execution_count": null,
      "metadata": {
        "colab": {
          "base_uri": "https://localhost:8080/"
        },
        "id": "1uVV6KCspvHi",
        "outputId": "a18e7cc4-9559-40e9-fb5e-e5fa24ad6e97"
      },
      "outputs": [
        {
          "output_type": "stream",
          "name": "stdout",
          "text": [
            "Enter the limit:10\n",
            "The numbers up to 10 is: 55\n"
          ]
        }
      ],
      "source": [
        "limit = int(input(\"Enter the limit:\"))\n",
        "sum=0\n",
        "for i in range(1, limit+1):\n",
        "  sum +=i\n",
        "\n",
        "print(f\"The numbers up to\", limit, \"is:\", sum)"
      ]
    },
    {
      "cell_type": "markdown",
      "source": [
        "**LCM**"
      ],
      "metadata": {
        "id": "FQZt46pa2ut_"
      }
    },
    {
      "cell_type": "code",
      "source": [
        "def compute_lcm(x,y):\n",
        "  if x > y:\n",
        "    greater =x\n",
        "  else:\n",
        "    greater = y\n",
        "  while(True):\n",
        "    if((greater % x ==0) and (greater % y ==0)):\n",
        "      lcm = greater\n",
        "      break\n",
        "    greater += 1\n",
        "  return lcm\n",
        "\n",
        "num1= int(input(\"enter x:\"))\n",
        "num2 = int(input(\"enter y:\"))\n",
        "\n",
        "print(f\"LCM is\", compute_lcm(num1, num2))"
      ],
      "metadata": {
        "colab": {
          "base_uri": "https://localhost:8080/"
        },
        "id": "cDdx91VCqWHu",
        "outputId": "a4f76be7-6d92-4121-c544-9a385f383ac7"
      },
      "execution_count": null,
      "outputs": [
        {
          "output_type": "stream",
          "name": "stdout",
          "text": [
            "enter x:54\n",
            "enter y:24\n",
            "LCM is 216\n"
          ]
        }
      ]
    },
    {
      "cell_type": "markdown",
      "source": [
        "**HCF**"
      ],
      "metadata": {
        "id": "WjSbs-CJ20jN"
      }
    },
    {
      "cell_type": "markdown",
      "source": [],
      "metadata": {
        "id": "PEtXqPTP2j_a"
      }
    },
    {
      "cell_type": "code",
      "source": [
        "def compute_hcf(x,y):\n",
        "  if x > y:\n",
        "    smaller =y\n",
        "  else:\n",
        "    smaller = x\n",
        "  for i in range(1, smaller+1):\n",
        "    if((x % i ==0) and (y % i ==0)):\n",
        "      hcf = i\n",
        "  return hcf\n",
        "\n",
        "num1= int(input(\"enter x:\"))\n",
        "num2 = int(input(\"enter y:\"))\n",
        "\n",
        "print(f\"HCF is\", compute_hcf(num1, num2))"
      ],
      "metadata": {
        "colab": {
          "base_uri": "https://localhost:8080/"
        },
        "id": "BRTQ7YgHr3wx",
        "outputId": "24d13199-1adc-4dde-b00e-889d92f71bca"
      },
      "execution_count": null,
      "outputs": [
        {
          "output_type": "stream",
          "name": "stdout",
          "text": [
            "enter x:54\n",
            "enter y:24\n",
            "HCF is 6\n"
          ]
        }
      ]
    },
    {
      "cell_type": "markdown",
      "source": [
        "**Conversion to binary, octal, hexa**"
      ],
      "metadata": {
        "id": "8D9NrE-028Fa"
      }
    },
    {
      "cell_type": "code",
      "source": [
        "num=int(input(\"Enter the decimal number:\"))\n",
        "\n",
        "print(f\"The Decimal numer\", num, \"is\")\n",
        "print(bin(num), \"in Binary\")\n",
        "print(oct(num), \"in Octal\")\n",
        "print(hex(num), \"in Hexadecimal\")"
      ],
      "metadata": {
        "colab": {
          "base_uri": "https://localhost:8080/"
        },
        "id": "DQny4UB6ubJH",
        "outputId": "64046d96-f944-4464-eb61-f88740ee28ad"
      },
      "execution_count": null,
      "outputs": [
        {
          "output_type": "stream",
          "name": "stdout",
          "text": [
            "Enter the decimal number:46\n",
            "The Decimal numer 46 is\n",
            "0b101110 in Binary\n",
            "0o56 in Octal\n",
            "0x2e in Hexadecimal\n"
          ]
        }
      ]
    },
    {
      "cell_type": "markdown",
      "source": [
        "**ASCII**"
      ],
      "metadata": {
        "id": "RT6ib-ZQ3ude"
      }
    },
    {
      "cell_type": "code",
      "source": [
        "char = str(input(\"Enter the character:\"))\n",
        "print(f\"The ASCII value is\", ord(char))"
      ],
      "metadata": {
        "colab": {
          "base_uri": "https://localhost:8080/"
        },
        "id": "Sj6vfB303kUR",
        "outputId": "d1e90583-6b7c-4503-ed72-9a7ad589538e"
      },
      "execution_count": null,
      "outputs": [
        {
          "output_type": "stream",
          "name": "stdout",
          "text": [
            "Enter the character:s\n",
            "The ASCII value is 115\n"
          ]
        }
      ]
    },
    {
      "cell_type": "markdown",
      "source": [
        "**Simple Calculation with Basic Mathematical Operation**"
      ],
      "metadata": {
        "id": "I1D2WmvE4WNm"
      }
    },
    {
      "cell_type": "code",
      "source": [
        "def add(x,y):\n",
        "  return x+y\n",
        "\n",
        "def sub(x,y):\n",
        "  return x-y\n",
        "\n",
        "def mul(x,y):\n",
        "  return x*y\n",
        "\n",
        "def div(x,y):\n",
        "  return x/y\n",
        "\n",
        "print(\"Select option:\")\n",
        "print(\"1.Add\")\n",
        "print(\"2.subtract\")\n",
        "print(\"3.Multiply\")\n",
        "print(\"4.Divide\")\n",
        "\n",
        "while(True):\n",
        "  choice = input(\"Select a choice 1/2/3/4\")\n",
        "  if choice in ('1', '2', '3', '4'):\n",
        "    try:\n",
        "      num1=float(input(\"enter first number\"))\n",
        "      num2=float(input(\"enter second number\"))\n",
        "    except ValueError:\n",
        "      print( \"Invalid.Please enter number\")\n",
        "      continue\n",
        "    if choice == '1':\n",
        "      print(num1,\"+\",num2,\"=\",add(num1,num2))\n",
        "    elif choice == '2':\n",
        "      print(num1,\"-\",num2,\"=\",sub(num1,num2))\n",
        "    elif choice == '3':\n",
        "      print(num1,\"*\",num2,\"=\",mul(num1,num2))\n",
        "    elif choice == '4':\n",
        "      print(num1,\"/\",num2,\"=\",div(num1,num2))\n",
        "\n",
        "    next=input(\"Next calculation(yes/No):\")\n",
        "    if next == 'No':\n",
        "      break\n",
        "  else:\n",
        "    print(\"Invalid input\")"
      ],
      "metadata": {
        "colab": {
          "base_uri": "https://localhost:8080/"
        },
        "id": "X-tXyASF4O5W",
        "outputId": "01ec7937-6dac-4895-ba0b-aabe01156afb"
      },
      "execution_count": 27,
      "outputs": [
        {
          "name": "stdout",
          "output_type": "stream",
          "text": [
            "Select option:\n",
            "1.Add\n",
            "2.subtract\n",
            "3.Multiply\n",
            "4.Divide\n",
            "Select a choice 1/2/3/41\n",
            "enter first number3\n",
            "enter second number4\n",
            "3.0 + 4.0 = 7.0\n",
            "Next calculation(yes/No):yes\n",
            "Select a choice 1/2/3/42\n",
            "enter first number3\n",
            "enter second number4\n",
            "3.0 - 4.0 = -1.0\n",
            "Next calculation(yes/No):yes\n",
            "Select a choice 1/2/3/43\n",
            "enter first number3\n",
            "enter second number4\n",
            "3.0 * 4.0 = 12.0\n",
            "Next calculation(yes/No):yes\n",
            "Select a choice 1/2/3/44\n",
            "enter first number3\n",
            "enter second number4\n",
            "3.0 / 4.0 = 0.75\n",
            "Next calculation(yes/No):No\n"
          ]
        }
      ]
    },
    {
      "cell_type": "markdown",
      "source": [
        "**Log**"
      ],
      "metadata": {
        "id": "0_-mNxTK8gJO"
      }
    },
    {
      "cell_type": "code",
      "source": [
        "import math\n",
        "\n",
        "num=float(input(\"Enter the number\"))\n",
        "\n",
        "if num <=0:\n",
        "  print(f\"Enter the positive number\")\n",
        "\n",
        "else:\n",
        "  result=math.log(num)\n",
        "  print(f\"Log of\", num, \"is\", result)\n"
      ],
      "metadata": {
        "id": "hkwQGC4T7Zhs",
        "colab": {
          "base_uri": "https://localhost:8080/"
        },
        "outputId": "e0221be9-adcf-49f5-fa91-70397971ce54"
      },
      "execution_count": 28,
      "outputs": [
        {
          "output_type": "stream",
          "name": "stdout",
          "text": [
            "Enter the number4\n",
            "Log of 4.0 is 1.3862943611198906\n"
          ]
        }
      ]
    },
    {
      "cell_type": "code",
      "source": [],
      "metadata": {
        "id": "b32ukisg9NdT"
      },
      "execution_count": null,
      "outputs": []
    }
  ]
}